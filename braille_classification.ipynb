{
  "cells": [
    {
      "cell_type": "markdown",
      "source": [
        "Imports / Connecting to drive\n"
      ],
      "metadata": {
        "id": "DB4772x4E0Ae"
      }
    },
    {
      "cell_type": "code",
      "execution_count": null,
      "metadata": {
        "colab": {
          "base_uri": "https://localhost:8080/"
        },
        "id": "5fFir-oX6GiO",
        "outputId": "feaf3657-8710-4714-c305-3954f5e4ac90"
      },
      "outputs": [
        {
          "output_type": "stream",
          "name": "stdout",
          "text": [
            "Mounted at /content/gdrive\n"
          ]
        }
      ],
      "source": [
        "from google.colab import drive\n",
        "drive.mount('/content/gdrive', force_remount=True)\n",
        "import numpy as np\n",
        "import cv2 as cv\n",
        "from matplotlib import pyplot as plt\n",
        "from google.colab.patches import cv2_imshow\n",
        "import torch\n",
        "from torchvision import transforms\n",
        "import pandas as pd\n",
        "from PIL import Image\n",
        "from sklearn.preprocessing import OneHotEncoder\n",
        "from sklearn.model_selection import train_test_split\n",
        "from torch.utils.data import DataLoader"
      ]
    },
    {
      "cell_type": "code",
      "source": [
        "df = pd.read_csv('braille_data_proper.csv')\n",
        "df[\"Image Object\"] = pd.NaT\n"
      ],
      "metadata": {
        "id": "UV2tS3gIZEqR"
      },
      "execution_count": null,
      "outputs": []
    },
    {
      "cell_type": "markdown",
      "source": [
        "# Loading Data and Pre-Processing"
      ],
      "metadata": {
        "id": "27RikqJdaiqr"
      }
    },
    {
      "cell_type": "code",
      "source": [
        "for index, row in df.iterrows():\n",
        "  try:\n",
        "    # img = Image.open(\"gdrive/MyDrive/ECE324_Project/data/character_data/\" + row.filename)\n",
        "    img = Image.open(row.filename)\n",
        "    if index < 566:\n",
        "      df.at[index, \"Image Object\"] = img\n",
        "    if index >= 566:\n",
        "      try:\n",
        "        changed = transforms.RandAugment()(img)\n",
        "        df.at[index, \"Image Object\"] = changed\n",
        "      except OSError:\n",
        "        pass\n",
        "  except FileNotFoundError:\n",
        "    print(\"not found\")\n",
        "    pass"
      ],
      "metadata": {
        "id": "HzQa65ILPCL9",
        "colab": {
          "base_uri": "https://localhost:8080/"
        },
        "outputId": "a324b65a-b65f-4ec2-95fa-0ec25954f8ac"
      },
      "execution_count": null,
      "outputs": [
        {
          "output_type": "stream",
          "name": "stdout",
          "text": [
            "not found\n",
            "not found\n",
            "not found\n",
            "not found\n",
            "not found\n",
            "not found\n",
            "not found\n",
            "not found\n",
            "not found\n",
            "not found\n",
            "not found\n",
            "not found\n",
            "not found\n",
            "not found\n",
            "not found\n",
            "not found\n",
            "not found\n",
            "not found\n",
            "not found\n",
            "not found\n",
            "not found\n",
            "not found\n",
            "not found\n",
            "not found\n",
            "not found\n",
            "not found\n",
            "not found\n",
            "not found\n",
            "not found\n",
            "not found\n",
            "not found\n",
            "not found\n",
            "not found\n",
            "not found\n",
            "not found\n",
            "not found\n",
            "not found\n",
            "not found\n",
            "not found\n",
            "not found\n",
            "not found\n",
            "not found\n",
            "not found\n",
            "not found\n",
            "not found\n",
            "not found\n",
            "not found\n",
            "not found\n",
            "not found\n",
            "not found\n",
            "not found\n",
            "not found\n",
            "not found\n",
            "not found\n",
            "not found\n",
            "not found\n",
            "not found\n",
            "not found\n",
            "not found\n",
            "not found\n",
            "not found\n",
            "not found\n",
            "not found\n",
            "not found\n",
            "not found\n",
            "not found\n",
            "not found\n",
            "not found\n",
            "not found\n",
            "not found\n",
            "not found\n",
            "not found\n",
            "not found\n",
            "not found\n",
            "not found\n",
            "not found\n",
            "not found\n",
            "not found\n",
            "not found\n",
            "not found\n",
            "not found\n",
            "not found\n",
            "not found\n",
            "not found\n",
            "not found\n",
            "not found\n",
            "not found\n",
            "not found\n",
            "not found\n",
            "not found\n",
            "not found\n",
            "not found\n",
            "not found\n",
            "not found\n",
            "not found\n",
            "not found\n",
            "not found\n",
            "not found\n",
            "not found\n",
            "not found\n",
            "not found\n",
            "not found\n",
            "not found\n",
            "not found\n",
            "not found\n",
            "not found\n",
            "not found\n",
            "not found\n",
            "not found\n",
            "not found\n",
            "not found\n",
            "not found\n"
          ]
        }
      ]
    },
    {
      "cell_type": "markdown",
      "source": [
        "Greyscaling the image and constructing the normal histogram of the given image and the normalized histogram\n",
        "\n"
      ],
      "metadata": {
        "id": "eOG4OkRpE988"
      }
    },
    {
      "cell_type": "code",
      "source": [
        "df = df.dropna(subset = ['Image Object']).reset_index(drop=True)"
      ],
      "metadata": {
        "id": "2APMPGXTQVft"
      },
      "execution_count": null,
      "outputs": []
    },
    {
      "cell_type": "code",
      "source": [
        "encoder = OneHotEncoder()\n",
        "encoder_df = pd.DataFrame(encoder.fit_transform(df[['label']]).toarray())\n",
        "encoder_df.columns = encoder.get_feature_names_out(['label'])\n",
        "final_df = df.join(encoder_df)\n",
        "final_df"
      ],
      "metadata": {
        "id": "9RH-rpcfZVln",
        "colab": {
          "base_uri": "https://localhost:8080/",
          "height": 661
        },
        "outputId": "a120049c-0c75-4107-8c54-263004156322"
      },
      "execution_count": null,
      "outputs": [
        {
          "output_type": "execute_result",
          "data": {
            "text/plain": [
              "            filename label                                       Image Object  \\\n",
              "0      IMG2549_6.jpg     a  <PIL.PngImagePlugin.PngImageFile image mode=RG...   \n",
              "1     IMG2549_10.jpg     a  <PIL.PngImagePlugin.PngImageFile image mode=RG...   \n",
              "2     IMG2549_54.jpg     a  <PIL.PngImagePlugin.PngImageFile image mode=RG...   \n",
              "3     IMG2549_70.jpg     a  <PIL.PngImagePlugin.PngImageFile image mode=RG...   \n",
              "4    IMG2549_105.jpg     a  <PIL.PngImagePlugin.PngImageFile image mode=RG...   \n",
              "..               ...   ...                                                ...   \n",
              "948   IMG2554_22.jpg  caps  <PIL.Image.Image image mode=RGBA size=70x114 a...   \n",
              "949   IMG2555_75.jpg  caps  <PIL.Image.Image image mode=RGBA size=70x114 a...   \n",
              "950   IMG2561_20.jpg  caps  <PIL.Image.Image image mode=RGBA size=70x114 a...   \n",
              "951   IMG2550_21.jpg  caps  <PIL.Image.Image image mode=RGBA size=70x114 a...   \n",
              "952   IMG2550_54.jpg  caps  <PIL.Image.Image image mode=RGBA size=70x114 a...   \n",
              "\n",
              "     label_,  label_.  label_?  label_a  label_b  label_c  label_caps  ...  \\\n",
              "0        0.0      0.0      0.0      1.0      0.0      0.0         0.0  ...   \n",
              "1        0.0      0.0      0.0      1.0      0.0      0.0         0.0  ...   \n",
              "2        0.0      0.0      0.0      1.0      0.0      0.0         0.0  ...   \n",
              "3        0.0      0.0      0.0      1.0      0.0      0.0         0.0  ...   \n",
              "4        0.0      0.0      0.0      1.0      0.0      0.0         0.0  ...   \n",
              "..       ...      ...      ...      ...      ...      ...         ...  ...   \n",
              "948      0.0      0.0      0.0      0.0      0.0      0.0         1.0  ...   \n",
              "949      0.0      0.0      0.0      0.0      0.0      0.0         1.0  ...   \n",
              "950      0.0      0.0      0.0      0.0      0.0      0.0         1.0  ...   \n",
              "951      0.0      0.0      0.0      0.0      0.0      0.0         1.0  ...   \n",
              "952      0.0      0.0      0.0      0.0      0.0      0.0         1.0  ...   \n",
              "\n",
              "     label_m  label_n  label_o  label_p  label_r  label_s  label_t  label_u  \\\n",
              "0        0.0      0.0      0.0      0.0      0.0      0.0      0.0      0.0   \n",
              "1        0.0      0.0      0.0      0.0      0.0      0.0      0.0      0.0   \n",
              "2        0.0      0.0      0.0      0.0      0.0      0.0      0.0      0.0   \n",
              "3        0.0      0.0      0.0      0.0      0.0      0.0      0.0      0.0   \n",
              "4        0.0      0.0      0.0      0.0      0.0      0.0      0.0      0.0   \n",
              "..       ...      ...      ...      ...      ...      ...      ...      ...   \n",
              "948      0.0      0.0      0.0      0.0      0.0      0.0      0.0      0.0   \n",
              "949      0.0      0.0      0.0      0.0      0.0      0.0      0.0      0.0   \n",
              "950      0.0      0.0      0.0      0.0      0.0      0.0      0.0      0.0   \n",
              "951      0.0      0.0      0.0      0.0      0.0      0.0      0.0      0.0   \n",
              "952      0.0      0.0      0.0      0.0      0.0      0.0      0.0      0.0   \n",
              "\n",
              "     label_w  label_y  \n",
              "0        0.0      0.0  \n",
              "1        0.0      0.0  \n",
              "2        0.0      0.0  \n",
              "3        0.0      0.0  \n",
              "4        0.0      0.0  \n",
              "..       ...      ...  \n",
              "948      0.0      0.0  \n",
              "949      0.0      0.0  \n",
              "950      0.0      0.0  \n",
              "951      0.0      0.0  \n",
              "952      0.0      0.0  \n",
              "\n",
              "[953 rows x 28 columns]"
            ],
            "text/html": [
              "\n",
              "  <div id=\"df-2b71093d-0191-4e60-a546-437f624f2af0\">\n",
              "    <div class=\"colab-df-container\">\n",
              "      <div>\n",
              "<style scoped>\n",
              "    .dataframe tbody tr th:only-of-type {\n",
              "        vertical-align: middle;\n",
              "    }\n",
              "\n",
              "    .dataframe tbody tr th {\n",
              "        vertical-align: top;\n",
              "    }\n",
              "\n",
              "    .dataframe thead th {\n",
              "        text-align: right;\n",
              "    }\n",
              "</style>\n",
              "<table border=\"1\" class=\"dataframe\">\n",
              "  <thead>\n",
              "    <tr style=\"text-align: right;\">\n",
              "      <th></th>\n",
              "      <th>filename</th>\n",
              "      <th>label</th>\n",
              "      <th>Image Object</th>\n",
              "      <th>label_,</th>\n",
              "      <th>label_.</th>\n",
              "      <th>label_?</th>\n",
              "      <th>label_a</th>\n",
              "      <th>label_b</th>\n",
              "      <th>label_c</th>\n",
              "      <th>label_caps</th>\n",
              "      <th>...</th>\n",
              "      <th>label_m</th>\n",
              "      <th>label_n</th>\n",
              "      <th>label_o</th>\n",
              "      <th>label_p</th>\n",
              "      <th>label_r</th>\n",
              "      <th>label_s</th>\n",
              "      <th>label_t</th>\n",
              "      <th>label_u</th>\n",
              "      <th>label_w</th>\n",
              "      <th>label_y</th>\n",
              "    </tr>\n",
              "  </thead>\n",
              "  <tbody>\n",
              "    <tr>\n",
              "      <th>0</th>\n",
              "      <td>IMG2549_6.jpg</td>\n",
              "      <td>a</td>\n",
              "      <td>&lt;PIL.PngImagePlugin.PngImageFile image mode=RG...</td>\n",
              "      <td>0.0</td>\n",
              "      <td>0.0</td>\n",
              "      <td>0.0</td>\n",
              "      <td>1.0</td>\n",
              "      <td>0.0</td>\n",
              "      <td>0.0</td>\n",
              "      <td>0.0</td>\n",
              "      <td>...</td>\n",
              "      <td>0.0</td>\n",
              "      <td>0.0</td>\n",
              "      <td>0.0</td>\n",
              "      <td>0.0</td>\n",
              "      <td>0.0</td>\n",
              "      <td>0.0</td>\n",
              "      <td>0.0</td>\n",
              "      <td>0.0</td>\n",
              "      <td>0.0</td>\n",
              "      <td>0.0</td>\n",
              "    </tr>\n",
              "    <tr>\n",
              "      <th>1</th>\n",
              "      <td>IMG2549_10.jpg</td>\n",
              "      <td>a</td>\n",
              "      <td>&lt;PIL.PngImagePlugin.PngImageFile image mode=RG...</td>\n",
              "      <td>0.0</td>\n",
              "      <td>0.0</td>\n",
              "      <td>0.0</td>\n",
              "      <td>1.0</td>\n",
              "      <td>0.0</td>\n",
              "      <td>0.0</td>\n",
              "      <td>0.0</td>\n",
              "      <td>...</td>\n",
              "      <td>0.0</td>\n",
              "      <td>0.0</td>\n",
              "      <td>0.0</td>\n",
              "      <td>0.0</td>\n",
              "      <td>0.0</td>\n",
              "      <td>0.0</td>\n",
              "      <td>0.0</td>\n",
              "      <td>0.0</td>\n",
              "      <td>0.0</td>\n",
              "      <td>0.0</td>\n",
              "    </tr>\n",
              "    <tr>\n",
              "      <th>2</th>\n",
              "      <td>IMG2549_54.jpg</td>\n",
              "      <td>a</td>\n",
              "      <td>&lt;PIL.PngImagePlugin.PngImageFile image mode=RG...</td>\n",
              "      <td>0.0</td>\n",
              "      <td>0.0</td>\n",
              "      <td>0.0</td>\n",
              "      <td>1.0</td>\n",
              "      <td>0.0</td>\n",
              "      <td>0.0</td>\n",
              "      <td>0.0</td>\n",
              "      <td>...</td>\n",
              "      <td>0.0</td>\n",
              "      <td>0.0</td>\n",
              "      <td>0.0</td>\n",
              "      <td>0.0</td>\n",
              "      <td>0.0</td>\n",
              "      <td>0.0</td>\n",
              "      <td>0.0</td>\n",
              "      <td>0.0</td>\n",
              "      <td>0.0</td>\n",
              "      <td>0.0</td>\n",
              "    </tr>\n",
              "    <tr>\n",
              "      <th>3</th>\n",
              "      <td>IMG2549_70.jpg</td>\n",
              "      <td>a</td>\n",
              "      <td>&lt;PIL.PngImagePlugin.PngImageFile image mode=RG...</td>\n",
              "      <td>0.0</td>\n",
              "      <td>0.0</td>\n",
              "      <td>0.0</td>\n",
              "      <td>1.0</td>\n",
              "      <td>0.0</td>\n",
              "      <td>0.0</td>\n",
              "      <td>0.0</td>\n",
              "      <td>...</td>\n",
              "      <td>0.0</td>\n",
              "      <td>0.0</td>\n",
              "      <td>0.0</td>\n",
              "      <td>0.0</td>\n",
              "      <td>0.0</td>\n",
              "      <td>0.0</td>\n",
              "      <td>0.0</td>\n",
              "      <td>0.0</td>\n",
              "      <td>0.0</td>\n",
              "      <td>0.0</td>\n",
              "    </tr>\n",
              "    <tr>\n",
              "      <th>4</th>\n",
              "      <td>IMG2549_105.jpg</td>\n",
              "      <td>a</td>\n",
              "      <td>&lt;PIL.PngImagePlugin.PngImageFile image mode=RG...</td>\n",
              "      <td>0.0</td>\n",
              "      <td>0.0</td>\n",
              "      <td>0.0</td>\n",
              "      <td>1.0</td>\n",
              "      <td>0.0</td>\n",
              "      <td>0.0</td>\n",
              "      <td>0.0</td>\n",
              "      <td>...</td>\n",
              "      <td>0.0</td>\n",
              "      <td>0.0</td>\n",
              "      <td>0.0</td>\n",
              "      <td>0.0</td>\n",
              "      <td>0.0</td>\n",
              "      <td>0.0</td>\n",
              "      <td>0.0</td>\n",
              "      <td>0.0</td>\n",
              "      <td>0.0</td>\n",
              "      <td>0.0</td>\n",
              "    </tr>\n",
              "    <tr>\n",
              "      <th>...</th>\n",
              "      <td>...</td>\n",
              "      <td>...</td>\n",
              "      <td>...</td>\n",
              "      <td>...</td>\n",
              "      <td>...</td>\n",
              "      <td>...</td>\n",
              "      <td>...</td>\n",
              "      <td>...</td>\n",
              "      <td>...</td>\n",
              "      <td>...</td>\n",
              "      <td>...</td>\n",
              "      <td>...</td>\n",
              "      <td>...</td>\n",
              "      <td>...</td>\n",
              "      <td>...</td>\n",
              "      <td>...</td>\n",
              "      <td>...</td>\n",
              "      <td>...</td>\n",
              "      <td>...</td>\n",
              "      <td>...</td>\n",
              "      <td>...</td>\n",
              "    </tr>\n",
              "    <tr>\n",
              "      <th>948</th>\n",
              "      <td>IMG2554_22.jpg</td>\n",
              "      <td>caps</td>\n",
              "      <td>&lt;PIL.Image.Image image mode=RGBA size=70x114 a...</td>\n",
              "      <td>0.0</td>\n",
              "      <td>0.0</td>\n",
              "      <td>0.0</td>\n",
              "      <td>0.0</td>\n",
              "      <td>0.0</td>\n",
              "      <td>0.0</td>\n",
              "      <td>1.0</td>\n",
              "      <td>...</td>\n",
              "      <td>0.0</td>\n",
              "      <td>0.0</td>\n",
              "      <td>0.0</td>\n",
              "      <td>0.0</td>\n",
              "      <td>0.0</td>\n",
              "      <td>0.0</td>\n",
              "      <td>0.0</td>\n",
              "      <td>0.0</td>\n",
              "      <td>0.0</td>\n",
              "      <td>0.0</td>\n",
              "    </tr>\n",
              "    <tr>\n",
              "      <th>949</th>\n",
              "      <td>IMG2555_75.jpg</td>\n",
              "      <td>caps</td>\n",
              "      <td>&lt;PIL.Image.Image image mode=RGBA size=70x114 a...</td>\n",
              "      <td>0.0</td>\n",
              "      <td>0.0</td>\n",
              "      <td>0.0</td>\n",
              "      <td>0.0</td>\n",
              "      <td>0.0</td>\n",
              "      <td>0.0</td>\n",
              "      <td>1.0</td>\n",
              "      <td>...</td>\n",
              "      <td>0.0</td>\n",
              "      <td>0.0</td>\n",
              "      <td>0.0</td>\n",
              "      <td>0.0</td>\n",
              "      <td>0.0</td>\n",
              "      <td>0.0</td>\n",
              "      <td>0.0</td>\n",
              "      <td>0.0</td>\n",
              "      <td>0.0</td>\n",
              "      <td>0.0</td>\n",
              "    </tr>\n",
              "    <tr>\n",
              "      <th>950</th>\n",
              "      <td>IMG2561_20.jpg</td>\n",
              "      <td>caps</td>\n",
              "      <td>&lt;PIL.Image.Image image mode=RGBA size=70x114 a...</td>\n",
              "      <td>0.0</td>\n",
              "      <td>0.0</td>\n",
              "      <td>0.0</td>\n",
              "      <td>0.0</td>\n",
              "      <td>0.0</td>\n",
              "      <td>0.0</td>\n",
              "      <td>1.0</td>\n",
              "      <td>...</td>\n",
              "      <td>0.0</td>\n",
              "      <td>0.0</td>\n",
              "      <td>0.0</td>\n",
              "      <td>0.0</td>\n",
              "      <td>0.0</td>\n",
              "      <td>0.0</td>\n",
              "      <td>0.0</td>\n",
              "      <td>0.0</td>\n",
              "      <td>0.0</td>\n",
              "      <td>0.0</td>\n",
              "    </tr>\n",
              "    <tr>\n",
              "      <th>951</th>\n",
              "      <td>IMG2550_21.jpg</td>\n",
              "      <td>caps</td>\n",
              "      <td>&lt;PIL.Image.Image image mode=RGBA size=70x114 a...</td>\n",
              "      <td>0.0</td>\n",
              "      <td>0.0</td>\n",
              "      <td>0.0</td>\n",
              "      <td>0.0</td>\n",
              "      <td>0.0</td>\n",
              "      <td>0.0</td>\n",
              "      <td>1.0</td>\n",
              "      <td>...</td>\n",
              "      <td>0.0</td>\n",
              "      <td>0.0</td>\n",
              "      <td>0.0</td>\n",
              "      <td>0.0</td>\n",
              "      <td>0.0</td>\n",
              "      <td>0.0</td>\n",
              "      <td>0.0</td>\n",
              "      <td>0.0</td>\n",
              "      <td>0.0</td>\n",
              "      <td>0.0</td>\n",
              "    </tr>\n",
              "    <tr>\n",
              "      <th>952</th>\n",
              "      <td>IMG2550_54.jpg</td>\n",
              "      <td>caps</td>\n",
              "      <td>&lt;PIL.Image.Image image mode=RGBA size=70x114 a...</td>\n",
              "      <td>0.0</td>\n",
              "      <td>0.0</td>\n",
              "      <td>0.0</td>\n",
              "      <td>0.0</td>\n",
              "      <td>0.0</td>\n",
              "      <td>0.0</td>\n",
              "      <td>1.0</td>\n",
              "      <td>...</td>\n",
              "      <td>0.0</td>\n",
              "      <td>0.0</td>\n",
              "      <td>0.0</td>\n",
              "      <td>0.0</td>\n",
              "      <td>0.0</td>\n",
              "      <td>0.0</td>\n",
              "      <td>0.0</td>\n",
              "      <td>0.0</td>\n",
              "      <td>0.0</td>\n",
              "      <td>0.0</td>\n",
              "    </tr>\n",
              "  </tbody>\n",
              "</table>\n",
              "<p>953 rows × 28 columns</p>\n",
              "</div>\n",
              "      <button class=\"colab-df-convert\" onclick=\"convertToInteractive('df-2b71093d-0191-4e60-a546-437f624f2af0')\"\n",
              "              title=\"Convert this dataframe to an interactive table.\"\n",
              "              style=\"display:none;\">\n",
              "        \n",
              "  <svg xmlns=\"http://www.w3.org/2000/svg\" height=\"24px\"viewBox=\"0 0 24 24\"\n",
              "       width=\"24px\">\n",
              "    <path d=\"M0 0h24v24H0V0z\" fill=\"none\"/>\n",
              "    <path d=\"M18.56 5.44l.94 2.06.94-2.06 2.06-.94-2.06-.94-.94-2.06-.94 2.06-2.06.94zm-11 1L8.5 8.5l.94-2.06 2.06-.94-2.06-.94L8.5 2.5l-.94 2.06-2.06.94zm10 10l.94 2.06.94-2.06 2.06-.94-2.06-.94-.94-2.06-.94 2.06-2.06.94z\"/><path d=\"M17.41 7.96l-1.37-1.37c-.4-.4-.92-.59-1.43-.59-.52 0-1.04.2-1.43.59L10.3 9.45l-7.72 7.72c-.78.78-.78 2.05 0 2.83L4 21.41c.39.39.9.59 1.41.59.51 0 1.02-.2 1.41-.59l7.78-7.78 2.81-2.81c.8-.78.8-2.07 0-2.86zM5.41 20L4 18.59l7.72-7.72 1.47 1.35L5.41 20z\"/>\n",
              "  </svg>\n",
              "      </button>\n",
              "      \n",
              "  <style>\n",
              "    .colab-df-container {\n",
              "      display:flex;\n",
              "      flex-wrap:wrap;\n",
              "      gap: 12px;\n",
              "    }\n",
              "\n",
              "    .colab-df-convert {\n",
              "      background-color: #E8F0FE;\n",
              "      border: none;\n",
              "      border-radius: 50%;\n",
              "      cursor: pointer;\n",
              "      display: none;\n",
              "      fill: #1967D2;\n",
              "      height: 32px;\n",
              "      padding: 0 0 0 0;\n",
              "      width: 32px;\n",
              "    }\n",
              "\n",
              "    .colab-df-convert:hover {\n",
              "      background-color: #E2EBFA;\n",
              "      box-shadow: 0px 1px 2px rgba(60, 64, 67, 0.3), 0px 1px 3px 1px rgba(60, 64, 67, 0.15);\n",
              "      fill: #174EA6;\n",
              "    }\n",
              "\n",
              "    [theme=dark] .colab-df-convert {\n",
              "      background-color: #3B4455;\n",
              "      fill: #D2E3FC;\n",
              "    }\n",
              "\n",
              "    [theme=dark] .colab-df-convert:hover {\n",
              "      background-color: #434B5C;\n",
              "      box-shadow: 0px 1px 3px 1px rgba(0, 0, 0, 0.15);\n",
              "      filter: drop-shadow(0px 1px 2px rgba(0, 0, 0, 0.3));\n",
              "      fill: #FFFFFF;\n",
              "    }\n",
              "  </style>\n",
              "\n",
              "      <script>\n",
              "        const buttonEl =\n",
              "          document.querySelector('#df-2b71093d-0191-4e60-a546-437f624f2af0 button.colab-df-convert');\n",
              "        buttonEl.style.display =\n",
              "          google.colab.kernel.accessAllowed ? 'block' : 'none';\n",
              "\n",
              "        async function convertToInteractive(key) {\n",
              "          const element = document.querySelector('#df-2b71093d-0191-4e60-a546-437f624f2af0');\n",
              "          const dataTable =\n",
              "            await google.colab.kernel.invokeFunction('convertToInteractive',\n",
              "                                                     [key], {});\n",
              "          if (!dataTable) return;\n",
              "\n",
              "          const docLinkHtml = 'Like what you see? Visit the ' +\n",
              "            '<a target=\"_blank\" href=https://colab.research.google.com/notebooks/data_table.ipynb>data table notebook</a>'\n",
              "            + ' to learn more about interactive tables.';\n",
              "          element.innerHTML = '';\n",
              "          dataTable['output_type'] = 'display_data';\n",
              "          await google.colab.output.renderOutput(dataTable, element);\n",
              "          const docLink = document.createElement('div');\n",
              "          docLink.innerHTML = docLinkHtml;\n",
              "          element.appendChild(docLink);\n",
              "        }\n",
              "      </script>\n",
              "    </div>\n",
              "  </div>\n",
              "  "
            ]
          },
          "metadata": {},
          "execution_count": 10
        }
      ]
    },
    {
      "cell_type": "code",
      "source": [
        "X = final_df['Image Object']\n",
        "#y = final_df['label']\n",
        "y = final_df[final_df.columns[3:]]\n",
        "X_train, X_test, y_train, y_test = train_test_split(X, y, test_size=0.3, random_state=42)\n",
        "X_train, y_train =  X_train.reset_index(drop=True), y_train.reset_index(drop=True)\n",
        "X_test, y_test =  X_test.reset_index(drop=True), y_test.reset_index(drop=True)\n",
        "y_train = torch.tensor(y_train.values)\n",
        "y_test = torch.tensor(y_test.values)"
      ],
      "metadata": {
        "id": "7oBdHqVIY2NH"
      },
      "execution_count": null,
      "outputs": []
    },
    {
      "cell_type": "code",
      "source": [
        "transform1 = transforms.Compose([\n",
        "    # resize\n",
        "    transforms.Resize((28, 28)),\n",
        "    # grayscale\n",
        "    transforms.Grayscale(num_output_channels=1),\n",
        "    # to-tensor\n",
        "    transforms.ToTensor()\n",
        "])"
      ],
      "metadata": {
        "id": "30tOZcGdAa_a"
      },
      "execution_count": null,
      "outputs": []
    },
    {
      "cell_type": "code",
      "source": [
        "class MyDataset(torch.utils.data.Dataset):\n",
        "\n",
        "  def __init__(self, X, y, transform=None):\n",
        "    self.X = X\n",
        "    self.y = y\n",
        "    self.transform = transform\n",
        "\n",
        "  def __len__(self):\n",
        "    return len(self.y)\n",
        "  \n",
        "  def __getitem__(self, i):\n",
        "    label = torch.argmax(self.y[i])\n",
        "    image = self.X[i]\n",
        "    if self.transform:\n",
        "        image = self.transform(image)\n",
        "    return (image, label)"
      ],
      "metadata": {
        "id": "AvRlZwXcul28"
      },
      "execution_count": null,
      "outputs": []
    },
    {
      "cell_type": "code",
      "source": [
        "train_data = MyDataset(X_train, y_train, transform1)\n",
        "test_data = MyDataset(X_test, y_test, transform1)"
      ],
      "metadata": {
        "id": "tc0-a_RtvGb1"
      },
      "execution_count": 388,
      "outputs": []
    },
    {
      "cell_type": "code",
      "source": [
        "train_loader = DataLoader(train_data, batch_size=20, shuffle=True, num_workers=1, drop_last=True)\n",
        "test_loader = DataLoader(test_data, batch_size=20, shuffle=True, num_workers=1, drop_last=True)"
      ],
      "metadata": {
        "id": "naXgWb2rcbO4"
      },
      "execution_count": null,
      "outputs": []
    },
    {
      "cell_type": "code",
      "source": [
        "print('Length of data set: ', len(train_loader), '\\n')\n",
        "\n",
        "for batch_idx, samples in enumerate(train_loader):\n",
        "  train_features, train_labels = next(iter(train_loader))\n",
        "  train_features, train_labels = next(iter(train_loader))\n",
        "  print(f\"Feature batch shape: {train_features.size()}\")\n",
        "  print(f\"Labels batch shape: {train_labels.size()}\")\n",
        "  img = train_features[0].squeeze()\n",
        "  label = train_labels[0]\n",
        "  plt.imshow(img, cmap=\"gray\")\n",
        "  plt.show()\n",
        "  print(f\"Label: {label}\")"
      ],
      "metadata": {
        "id": "tj7tiJQBicFR",
        "colab": {
          "base_uri": "https://localhost:8080/",
          "height": 1000
        },
        "outputId": "646f26c4-5fb1-4028-b88b-1968d15c6042"
      },
      "execution_count": null,
      "outputs": [
        {
          "output_type": "stream",
          "name": "stdout",
          "text": [
            "Length of data set:  33 \n",
            "\n",
            "Feature batch shape: torch.Size([20, 1, 28, 28])\n",
            "Labels batch shape: torch.Size([20])\n"
          ]
        },
        {
          "output_type": "display_data",
          "data": {
            "text/plain": [
              "<Figure size 432x288 with 1 Axes>"
            ],
            "image/png": "[encoded data removed]"
          },
          "metadata": {
            "needs_background": "light"
          }
        },
        {
          "output_type": "stream",
          "name": "stdout",
          "text": [
            "Label: 24\n",
            "Feature batch shape: torch.Size([20, 1, 28, 28])\n",
            "Labels batch shape: torch.Size([20])\n"
          ]
        },
        {
          "output_type": "display_data",
          "data": {
            "text/plain": [
              "<Figure size 432x288 with 1 Axes>"
            ],
            "image/png": "[encoded data removed]"
          },
          "metadata": {
            "needs_background": "light"
          }
        },
        {
          "output_type": "stream",
          "name": "stdout",
          "text": [
            "Label: 12\n",
            "Feature batch shape: torch.Size([20, 1, 28, 28])\n",
            "Labels batch shape: torch.Size([20])\n"
          ]
        },
        {
          "output_type": "display_data",
          "data": {
            "text/plain": [
              "<Figure size 432x288 with 1 Axes>"
            ],
            "image/png": "[encoded data removed]"
          },
          "metadata": {
            "needs_background": "light"
          }
        },
        {
          "output_type": "stream",
          "name": "stdout",
          "text": [
            "Label: 24\n",
            "Feature batch shape: torch.Size([20, 1, 28, 28])\n",
            "Labels batch shape: torch.Size([20])\n"
          ]
        },
        {
          "output_type": "display_data",
          "data": {
            "text/plain": [
              "<Figure size 432x288 with 1 Axes>"
            ],
            "image/png": "[encoded data removed]"
          },
          "metadata": {
            "needs_background": "light"
          }
        },
        {
          "output_type": "stream",
          "name": "stdout",
          "text": [
            "Label: 3\n",
            "Feature batch shape: torch.Size([20, 1, 28, 28])\n",
            "Labels batch shape: torch.Size([20])\n"
          ]
        },
        {
          "output_type": "display_data",
          "data": {
            "text/plain": [
              "<Figure size 432x288 with 1 Axes>"
            ],
            "image/png": "[encoded data removed]"
          },
          "metadata": {
            "needs_background": "light"
          }
        },
        {
          "output_type": "stream",
          "name": "stdout",
          "text": [
            "Label: 8\n",
            "Feature batch shape: torch.Size([20, 1, 28, 28])\n",
            "Labels batch shape: torch.Size([20])\n"
          ]
        },
        {
          "output_type": "display_data",
          "data": {
            "text/plain": [
              "<Figure size 432x288 with 1 Axes>"
            ],
            "image/png": "[encoded data removed]"
          },
          "metadata": {
            "needs_background": "light"
          }
        },
        {
          "output_type": "stream",
          "name": "stdout",
          "text": [
            "Label: 17\n",
            "Feature batch shape: torch.Size([20, 1, 28, 28])\n",
            "Labels batch shape: torch.Size([20])\n"
          ]
        },
        {
          "output_type": "display_data",
          "data": {
            "text/plain": [
              "<Figure size 432x288 with 1 Axes>"
            ],
            "image/png": "[encoded data removed]"
          },
          "metadata": {
            "needs_background": "light"
          }
        },
        {
          "output_type": "stream",
          "name": "stdout",
          "text": [
            "Label: 16\n",
            "Feature batch shape: torch.Size([20, 1, 28, 28])\n",
            "Labels batch shape: torch.Size([20])\n"
          ]
        },
        {
          "output_type": "display_data",
          "data": {
            "text/plain": [
              "<Figure size 432x288 with 1 Axes>"
            ],
            "image/png": "[encoded data removed]"
          },
          "metadata": {
            "needs_background": "light"
          }
        },
        {
          "output_type": "stream",
          "name": "stdout",
          "text": [
            "Label: 8\n",
            "Feature batch shape: torch.Size([20, 1, 28, 28])\n",
            "Labels batch shape: torch.Size([20])\n"
          ]
        },
        {
          "output_type": "display_data",
          "data": {
            "text/plain": [
              "<Figure size 432x288 with 1 Axes>"
            ],
            "image/png": "[encoded data removed]"
          },
          "metadata": {
            "needs_background": "light"
          }
        },
        {
          "output_type": "stream",
          "name": "stdout",
          "text": [
            "Label: 3\n",
            "Feature batch shape: torch.Size([20, 1, 28, 28])\n",
            "Labels batch shape: torch.Size([20])\n"
          ]
        },
        {
          "output_type": "display_data",
          "data": {
            "text/plain": [
              "<Figure size 432x288 with 1 Axes>"
            ],
            "image/png": "[encoded data removed]"
          },
          "metadata": {
            "needs_background": "light"
          }
        },
        {
          "output_type": "stream",
          "name": "stdout",
          "text": [
            "Label: 17\n",
            "Feature batch shape: torch.Size([20, 1, 28, 28])\n",
            "Labels batch shape: torch.Size([20])\n"
          ]
        },
        {
          "output_type": "display_data",
          "data": {
            "text/plain": [
              "<Figure size 432x288 with 1 Axes>"
            ],
            "image/png": "[encoded data removed]"
          },
          "metadata": {
            "needs_background": "light"
          }
        },
        {
          "output_type": "stream",
          "name": "stdout",
          "text": [
            "Label: 24\n",
            "Feature batch shape: torch.Size([20, 1, 28, 28])\n",
            "Labels batch shape: torch.Size([20])\n"
          ]
        },
        {
          "output_type": "display_data",
          "data": {
            "text/plain": [
              "<Figure size 432x288 with 1 Axes>"
            ],
            "image/png": "[encoded data removed]"
          },
          "metadata": {
            "needs_background": "light"
          }
        },
        {
          "output_type": "stream",
          "name": "stdout",
          "text": [
            "Label: 13\n",
            "Feature batch shape: torch.Size([20, 1, 28, 28])\n",
            "Labels batch shape: torch.Size([20])\n"
          ]
        },
        {
          "output_type": "display_data",
          "data": {
            "text/plain": [
              "<Figure size 432x288 with 1 Axes>"
            ],
            "image/png": "[encoded data removed]"
          },
          "metadata": {
            "needs_background": "light"
          }
        },
        {
          "output_type": "stream",
          "name": "stdout",
          "text": [
            "Label: 10\n",
            "Feature batch shape: torch.Size([20, 1, 28, 28])\n",
            "Labels batch shape: torch.Size([20])\n"
          ]
        },
        {
          "output_type": "display_data",
          "data": {
            "text/plain": [
              "<Figure size 432x288 with 1 Axes>"
            ],
            "image/png": "[encoded data removed]"
          },
          "metadata": {
            "needs_background": "light"
          }
        },
        {
          "output_type": "stream",
          "name": "stdout",
          "text": [
            "Label: 5\n",
            "Feature batch shape: torch.Size([20, 1, 28, 28])\n",
            "Labels batch shape: torch.Size([20])\n"
          ]
        },
        {
          "output_type": "display_data",
          "data": {
            "text/plain": [
              "<Figure size 432x288 with 1 Axes>"
            ],
            "image/png": "[encoded data removed]"
          },
          "metadata": {
            "needs_background": "light"
          }
        },
        {
          "output_type": "stream",
          "name": "stdout",
          "text": [
            "Label: 12\n",
            "Feature batch shape: torch.Size([20, 1, 28, 28])\n",
            "Labels batch shape: torch.Size([20])\n"
          ]
        },
        {
          "output_type": "display_data",
          "data": {
            "text/plain": [
              "<Figure size 432x288 with 1 Axes>"
            ],
            "image/png": "[encoded data removed]"
          },
          "metadata": {
            "needs_background": "light"
          }
        },
        {
          "output_type": "stream",
          "name": "stdout",
          "text": [
            "Label: 12\n",
            "Feature batch shape: torch.Size([20, 1, 28, 28])\n",
            "Labels batch shape: torch.Size([20])\n"
          ]
        },
        {
          "output_type": "display_data",
          "data": {
            "text/plain": [
              "<Figure size 432x288 with 1 Axes>"
            ],
            "image/png": "[encoded data removed]"
          },
          "metadata": {
            "needs_background": "light"
          }
        },
        {
          "output_type": "stream",
          "name": "stdout",
          "text": [
            "Label: 1\n",
            "Feature batch shape: torch.Size([20, 1, 28, 28])\n",
            "Labels batch shape: torch.Size([20])\n"
          ]
        },
        {
          "output_type": "display_data",
          "data": {
            "text/plain": [
              "<Figure size 432x288 with 1 Axes>"
            ],
            "image/png": "[encoded data removed]"
          },
          "metadata": {
            "needs_background": "light"
          }
        },
        {
          "output_type": "stream",
          "name": "stdout",
          "text": [
            "Label: 17\n",
            "Feature batch shape: torch.Size([20, 1, 28, 28])\n",
            "Labels batch shape: torch.Size([20])\n"
          ]
        },
        {
          "output_type": "display_data",
          "data": {
            "text/plain": [
              "<Figure size 432x288 with 1 Axes>"
            ],
            "image/png": "[encoded data removed]"
          },
          "metadata": {
            "needs_background": "light"
          }
        },
        {
          "output_type": "stream",
          "name": "stdout",
          "text": [
            "Label: 20\n",
            "Feature batch shape: torch.Size([20, 1, 28, 28])\n",
            "Labels batch shape: torch.Size([20])\n"
          ]
        },
        {
          "output_type": "display_data",
          "data": {
            "text/plain": [
              "<Figure size 432x288 with 1 Axes>"
            ],
            "image/png": "[encoded data removed]"
          },
          "metadata": {
            "needs_background": "light"
          }
        },
        {
          "output_type": "stream",
          "name": "stdout",
          "text": [
            "Label: 17\n",
            "Feature batch shape: torch.Size([20, 1, 28, 28])\n",
            "Labels batch shape: torch.Size([20])\n"
          ]
        },
        {
          "output_type": "display_data",
          "data": {
            "text/plain": [
              "<Figure size 432x288 with 1 Axes>"
            ],
            "image/png": "[encoded data removed]"
          },
          "metadata": {
            "needs_background": "light"
          }
        },
        {
          "output_type": "stream",
          "name": "stdout",
          "text": [
            "Label: 12\n",
            "Feature batch shape: torch.Size([20, 1, 28, 28])\n",
            "Labels batch shape: torch.Size([20])\n"
          ]
        },
        {
          "output_type": "display_data",
          "data": {
            "text/plain": [
              "<Figure size 432x288 with 1 Axes>"
            ],
            "image/png": "[encoded data removed]"
          },
          "metadata": {
            "needs_background": "light"
          }
        },
        {
          "output_type": "stream",
          "name": "stdout",
          "text": [
            "Label: 20\n",
            "Feature batch shape: torch.Size([20, 1, 28, 28])\n",
            "Labels batch shape: torch.Size([20])\n"
          ]
        },
        {
          "output_type": "display_data",
          "data": {
            "text/plain": [
              "<Figure size 432x288 with 1 Axes>"
            ],
            "image/png": "[encoded data removed]"
          },
          "metadata": {
            "needs_background": "light"
          }
        },
        {
          "output_type": "stream",
          "name": "stdout",
          "text": [
            "Label: 23\n",
            "Feature batch shape: torch.Size([20, 1, 28, 28])\n",
            "Labels batch shape: torch.Size([20])\n"
          ]
        },
        {
          "output_type": "display_data",
          "data": {
            "text/plain": [
              "<Figure size 432x288 with 1 Axes>"
            ],
            "image/png": "[encoded data removed]"
          },
          "metadata": {
            "needs_background": "light"
          }
        },
        {
          "output_type": "stream",
          "name": "stdout",
          "text": [
            "Label: 12\n",
            "Feature batch shape: torch.Size([20, 1, 28, 28])\n",
            "Labels batch shape: torch.Size([20])\n"
          ]
        },
        {
          "output_type": "display_data",
          "data": {
            "text/plain": [
              "<Figure size 432x288 with 1 Axes>"
            ],
            "image/png": "[encoded data removed]"
          },
          "metadata": {
            "needs_background": "light"
          }
        },
        {
          "output_type": "stream",
          "name": "stdout",
          "text": [
            "Label: 2\n",
            "Feature batch shape: torch.Size([20, 1, 28, 28])\n",
            "Labels batch shape: torch.Size([20])\n"
          ]
        },
        {
          "output_type": "display_data",
          "data": {
            "text/plain": [
              "<Figure size 432x288 with 1 Axes>"
            ],
            "image/png": "[encoded data removed]"
          },
          "metadata": {
            "needs_background": "light"
          }
        },
        {
          "output_type": "stream",
          "name": "stdout",
          "text": [
            "Label: 19\n",
            "Feature batch shape: torch.Size([20, 1, 28, 28])\n",
            "Labels batch shape: torch.Size([20])\n"
          ]
        },
        {
          "output_type": "display_data",
          "data": {
            "text/plain": [
              "<Figure size 432x288 with 1 Axes>"
            ],
            "image/png": "[encoded data removed]"
          },
          "metadata": {
            "needs_background": "light"
          }
        },
        {
          "output_type": "stream",
          "name": "stdout",
          "text": [
            "Label: 0\n",
            "Feature batch shape: torch.Size([20, 1, 28, 28])\n",
            "Labels batch shape: torch.Size([20])\n"
          ]
        },
        {
          "output_type": "display_data",
          "data": {
            "text/plain": [
              "<Figure size 432x288 with 1 Axes>"
            ],
            "image/png": "[encoded data removed]"
          },
          "metadata": {
            "needs_background": "light"
          }
        },
        {
          "output_type": "stream",
          "name": "stdout",
          "text": [
            "Label: 19\n",
            "Feature batch shape: torch.Size([20, 1, 28, 28])\n",
            "Labels batch shape: torch.Size([20])\n"
          ]
        },
        {
          "output_type": "display_data",
          "data": {
            "text/plain": [
              "<Figure size 432x288 with 1 Axes>"
            ],
            "image/png": "[encoded data removed]"
          },
          "metadata": {
            "needs_background": "light"
          }
        },
        {
          "output_type": "stream",
          "name": "stdout",
          "text": [
            "Label: 9\n",
            "Feature batch shape: torch.Size([20, 1, 28, 28])\n",
            "Labels batch shape: torch.Size([20])\n"
          ]
        },
        {
          "output_type": "display_data",
          "data": {
            "text/plain": [
              "<Figure size 432x288 with 1 Axes>"
            ],
            "image/png": "[encoded data removed]"
          },
          "metadata": {
            "needs_background": "light"
          }
        },
        {
          "output_type": "stream",
          "name": "stdout",
          "text": [
            "Label: 21\n",
            "Feature batch shape: torch.Size([20, 1, 28, 28])\n",
            "Labels batch shape: torch.Size([20])\n"
          ]
        },
        {
          "output_type": "display_data",
          "data": {
            "text/plain": [
              "<Figure size 432x288 with 1 Axes>"
            ],
            "image/png": "[encoded data removed]"
          },
          "metadata": {
            "needs_background": "light"
          }
        },
        {
          "output_type": "stream",
          "name": "stdout",
          "text": [
            "Label: 15\n",
            "Feature batch shape: torch.Size([20, 1, 28, 28])\n",
            "Labels batch shape: torch.Size([20])\n"
          ]
        },
        {
          "output_type": "display_data",
          "data": {
            "text/plain": [
              "<Figure size 432x288 with 1 Axes>"
            ],
            "image/png": "[encoded data removed]"
          },
          "metadata": {
            "needs_background": "light"
          }
        },
        {
          "output_type": "stream",
          "name": "stdout",
          "text": [
            "Label: 9\n",
            "Feature batch shape: torch.Size([20, 1, 28, 28])\n",
            "Labels batch shape: torch.Size([20])\n"
          ]
        },
        {
          "output_type": "display_data",
          "data": {
            "text/plain": [
              "<Figure size 432x288 with 1 Axes>"
            ],
            "image/png": "[encoded data removed]"
          },
          "metadata": {
            "needs_background": "light"
          }
        },
        {
          "output_type": "stream",
          "name": "stdout",
          "text": [
            "Label: 1\n"
          ]
        }
      ]
    },
    {
      "cell_type": "markdown",
      "source": [
        "# Model"
      ],
      "metadata": {
        "id": "xZtBQv4j1-Gj"
      }
    },
    {
      "cell_type": "code",
      "source": [
        "number_of_classes = 17\n",
        "import torch.nn as nn\n",
        "class ConvNet(nn.Module):\n",
        "    def __init__(self):\n",
        "        super(ConvNet, self).__init__()\n",
        "        self.conv_1 = nn.Sequential(         \n",
        "            nn.Conv2d(in_channels=1, out_channels=16, kernel_size=3, stride=1, padding='same'),                              \n",
        "            nn.ReLU(),                      \n",
        "            nn.MaxPool2d(kernel_size=2),    \n",
        "        )\n",
        "        self.conv_2 = nn.Sequential(\n",
        "            nn.Conv2d(in_channels=16, out_channels=32, kernel_size=3, stride=1, padding='same'),     \n",
        "            nn.ReLU(),                      \n",
        "            nn.MaxPool2d(2),                \n",
        "        )\n",
        "        # fully connected layer\n",
        "        self.linear = nn.Linear(in_features = 32*7*7, out_features = number_of_classes)\n",
        "        self.softmax = torch.nn.Softmax(dim=1)\n",
        "\n",
        "    def forward(self, x):\n",
        "        x = self.conv_1(x)\n",
        "        x = self.conv_2(x)\n",
        "        # flatten the output of conv2 to (batch_size, 32 * 7 * 7)\n",
        "        x = x.view(x.size(0), -1)   \n",
        "        x = self.linear(x)    \n",
        "        output = self.softmax(x)\n",
        "        return output\n",
        "\n"
      ],
      "metadata": {
        "id": "Drr_W1v_PXjq"
      },
      "execution_count": null,
      "outputs": []
    },
    {
      "cell_type": "markdown",
      "source": [
        "# Training"
      ],
      "metadata": {
        "id": "aocg4MJ32A2l"
      }
    },
    {
      "cell_type": "code",
      "source": [
        "from PIL import ImageFile\n",
        "ImageFile.LOAD_TRUNCATED_IMAGES = True\n",
        "learning_rate = 0.001\n",
        "model = ConvNet()\n",
        "criterion = nn.CrossEntropyLoss() \n",
        "optimizer = torch.optim.Adam(model.parameters(), lr = learning_rate)\n",
        "epochs = 100\n",
        "# batch = 16\n",
        "device = 'cuda'"
      ],
      "metadata": {
        "id": "qDyeW8swu59s"
      },
      "execution_count": null,
      "outputs": []
    },
    {
      "cell_type": "code",
      "source": [
        "def train(model, num_epochs, loader):\n",
        "  model.train()\n",
        "  total_step = len(loader)\n",
        "  for epoch in range(num_epochs):\n",
        "    for batch_idx, (image, target) in enumerate(loader):\n",
        "        optimizer.zero_grad()\n",
        "        y_pred = model(image)\n",
        "        loss = criterion(y_pred, target)\n",
        "        loss.backward()\n",
        "        optimizer.step()\n",
        "        if (batch_idx + 1) % 10 == 0:\n",
        "            print ('Epoch [{}/{}], Step [{}/{}], Loss: {:.4f}'.format(epoch + 1, num_epochs, batch_idx + 1, total_step, loss.item()))\n"
      ],
      "metadata": {
        "id": "6XI4I0HmwiJp"
      },
      "execution_count": null,
      "outputs": []
    },
    {
      "cell_type": "code",
      "source": [
        "train(model, epochs, train_loader)"
      ],
      "metadata": {
        "id": "Ctsg8n9ezvTX",
        "colab": {
          "base_uri": "https://localhost:8080/"
        },
        "outputId": "f53bd2fc-2352-4658-f860-983a9af28e05"
      },
      "execution_count": null,
      "outputs": [
        {
          "output_type": "stream",
          "name": "stdout",
          "text": [
            "Epoch [1/100], Step [10/33], Loss: 3.2091\n",
            "Epoch [1/100], Step [20/33], Loss: 3.1821\n",
            "Epoch [1/100], Step [30/33], Loss: 3.2302\n",
            "Epoch [2/100], Step [10/33], Loss: 3.2562\n",
            "Epoch [2/100], Step [20/33], Loss: 3.1848\n",
            "Epoch [2/100], Step [30/33], Loss: 3.1772\n",
            "Epoch [3/100], Step [10/33], Loss: 3.1617\n",
            "Epoch [3/100], Step [20/33], Loss: 3.1550\n",
            "Epoch [3/100], Step [30/33], Loss: 3.1927\n",
            "Epoch [4/100], Step [10/33], Loss: 3.2250\n",
            "Epoch [4/100], Step [20/33], Loss: 3.2443\n",
            "Epoch [4/100], Step [30/33], Loss: 3.2124\n",
            "Epoch [5/100], Step [10/33], Loss: 3.1388\n",
            "Epoch [5/100], Step [20/33], Loss: 3.1507\n",
            "Epoch [5/100], Step [30/33], Loss: 3.1511\n",
            "Epoch [6/100], Step [10/33], Loss: 3.2161\n",
            "Epoch [6/100], Step [20/33], Loss: 3.1652\n",
            "Epoch [6/100], Step [30/33], Loss: 3.2064\n",
            "Epoch [7/100], Step [10/33], Loss: 3.1301\n",
            "Epoch [7/100], Step [20/33], Loss: 3.1877\n",
            "Epoch [7/100], Step [30/33], Loss: 3.1781\n",
            "Epoch [8/100], Step [10/33], Loss: 3.1965\n",
            "Epoch [8/100], Step [20/33], Loss: 3.1454\n",
            "Epoch [8/100], Step [30/33], Loss: 3.2089\n",
            "Epoch [9/100], Step [10/33], Loss: 3.1437\n",
            "Epoch [9/100], Step [20/33], Loss: 3.0980\n",
            "Epoch [9/100], Step [30/33], Loss: 3.1659\n",
            "Epoch [10/100], Step [10/33], Loss: 3.1689\n",
            "Epoch [10/100], Step [20/33], Loss: 3.1680\n",
            "Epoch [10/100], Step [30/33], Loss: 3.1492\n",
            "Epoch [11/100], Step [10/33], Loss: 3.1135\n",
            "Epoch [11/100], Step [20/33], Loss: 3.0343\n",
            "Epoch [11/100], Step [30/33], Loss: 3.0943\n",
            "Epoch [12/100], Step [10/33], Loss: 3.1025\n",
            "Epoch [12/100], Step [20/33], Loss: 3.0042\n",
            "Epoch [12/100], Step [30/33], Loss: 3.1499\n",
            "Epoch [13/100], Step [10/33], Loss: 3.0160\n",
            "Epoch [13/100], Step [20/33], Loss: 3.1769\n",
            "Epoch [13/100], Step [30/33], Loss: 3.0131\n",
            "Epoch [14/100], Step [10/33], Loss: 3.0842\n",
            "Epoch [14/100], Step [20/33], Loss: 3.0027\n",
            "Epoch [14/100], Step [30/33], Loss: 3.0796\n",
            "Epoch [15/100], Step [10/33], Loss: 3.0033\n",
            "Epoch [15/100], Step [20/33], Loss: 3.0562\n",
            "Epoch [15/100], Step [30/33], Loss: 3.0190\n",
            "Epoch [16/100], Step [10/33], Loss: 2.9704\n",
            "Epoch [16/100], Step [20/33], Loss: 2.9552\n",
            "Epoch [16/100], Step [30/33], Loss: 2.9181\n",
            "Epoch [17/100], Step [10/33], Loss: 2.9743\n",
            "Epoch [17/100], Step [20/33], Loss: 2.8776\n",
            "Epoch [17/100], Step [30/33], Loss: 3.0717\n",
            "Epoch [18/100], Step [10/33], Loss: 2.9655\n",
            "Epoch [18/100], Step [20/33], Loss: 2.9075\n",
            "Epoch [18/100], Step [30/33], Loss: 3.0861\n",
            "Epoch [19/100], Step [10/33], Loss: 3.0761\n",
            "Epoch [19/100], Step [20/33], Loss: 2.9890\n",
            "Epoch [19/100], Step [30/33], Loss: 3.0803\n",
            "Epoch [20/100], Step [10/33], Loss: 2.9944\n",
            "Epoch [20/100], Step [20/33], Loss: 3.0327\n",
            "Epoch [20/100], Step [30/33], Loss: 2.9673\n",
            "Epoch [21/100], Step [10/33], Loss: 3.0448\n",
            "Epoch [21/100], Step [20/33], Loss: 2.9265\n",
            "Epoch [21/100], Step [30/33], Loss: 2.8930\n",
            "Epoch [22/100], Step [10/33], Loss: 2.8657\n",
            "Epoch [22/100], Step [20/33], Loss: 3.0227\n",
            "Epoch [22/100], Step [30/33], Loss: 3.0140\n",
            "Epoch [23/100], Step [10/33], Loss: 3.0159\n",
            "Epoch [23/100], Step [20/33], Loss: 2.9372\n",
            "Epoch [23/100], Step [30/33], Loss: 2.7523\n",
            "Epoch [24/100], Step [10/33], Loss: 2.8151\n",
            "Epoch [24/100], Step [20/33], Loss: 2.9755\n",
            "Epoch [24/100], Step [30/33], Loss: 2.8540\n",
            "Epoch [25/100], Step [10/33], Loss: 2.9318\n",
            "Epoch [25/100], Step [20/33], Loss: 2.9238\n",
            "Epoch [25/100], Step [30/33], Loss: 2.7453\n",
            "Epoch [26/100], Step [10/33], Loss: 3.0718\n",
            "Epoch [26/100], Step [20/33], Loss: 2.8839\n",
            "Epoch [26/100], Step [30/33], Loss: 2.9855\n",
            "Epoch [27/100], Step [10/33], Loss: 2.9939\n",
            "Epoch [27/100], Step [20/33], Loss: 2.9389\n",
            "Epoch [27/100], Step [30/33], Loss: 2.9334\n",
            "Epoch [28/100], Step [10/33], Loss: 2.8212\n",
            "Epoch [28/100], Step [20/33], Loss: 2.9778\n",
            "Epoch [28/100], Step [30/33], Loss: 2.9493\n",
            "Epoch [29/100], Step [10/33], Loss: 2.8206\n",
            "Epoch [29/100], Step [20/33], Loss: 3.0002\n",
            "Epoch [29/100], Step [30/33], Loss: 2.9534\n",
            "Epoch [30/100], Step [10/33], Loss: 2.7471\n",
            "Epoch [30/100], Step [20/33], Loss: 2.8928\n",
            "Epoch [30/100], Step [30/33], Loss: 2.8494\n",
            "Epoch [31/100], Step [10/33], Loss: 3.0880\n",
            "Epoch [31/100], Step [20/33], Loss: 2.9232\n",
            "Epoch [31/100], Step [30/33], Loss: 2.8347\n",
            "Epoch [32/100], Step [10/33], Loss: 2.7711\n",
            "Epoch [32/100], Step [20/33], Loss: 2.7252\n",
            "Epoch [32/100], Step [30/33], Loss: 2.8822\n",
            "Epoch [33/100], Step [10/33], Loss: 3.0633\n",
            "Epoch [33/100], Step [20/33], Loss: 3.0021\n",
            "Epoch [33/100], Step [30/33], Loss: 3.0906\n",
            "Epoch [34/100], Step [10/33], Loss: 2.9579\n",
            "Epoch [34/100], Step [20/33], Loss: 2.7937\n",
            "Epoch [34/100], Step [30/33], Loss: 2.7769\n",
            "Epoch [35/100], Step [10/33], Loss: 2.8488\n",
            "Epoch [35/100], Step [20/33], Loss: 2.9139\n",
            "Epoch [35/100], Step [30/33], Loss: 2.8395\n",
            "Epoch [36/100], Step [10/33], Loss: 2.8823\n",
            "Epoch [36/100], Step [20/33], Loss: 2.8136\n",
            "Epoch [36/100], Step [30/33], Loss: 2.9500\n",
            "Epoch [37/100], Step [10/33], Loss: 3.1177\n",
            "Epoch [37/100], Step [20/33], Loss: 3.0682\n",
            "Epoch [37/100], Step [30/33], Loss: 2.9300\n",
            "Epoch [38/100], Step [10/33], Loss: 2.9872\n",
            "Epoch [38/100], Step [20/33], Loss: 2.8822\n",
            "Epoch [38/100], Step [30/33], Loss: 2.8007\n",
            "Epoch [39/100], Step [10/33], Loss: 2.9326\n",
            "Epoch [39/100], Step [20/33], Loss: 2.8720\n",
            "Epoch [39/100], Step [30/33], Loss: 2.8729\n",
            "Epoch [40/100], Step [10/33], Loss: 2.9522\n",
            "Epoch [40/100], Step [20/33], Loss: 2.8511\n",
            "Epoch [40/100], Step [30/33], Loss: 2.8771\n",
            "Epoch [41/100], Step [10/33], Loss: 2.9951\n",
            "Epoch [41/100], Step [20/33], Loss: 3.0209\n",
            "Epoch [41/100], Step [30/33], Loss: 3.0756\n",
            "Epoch [42/100], Step [10/33], Loss: 2.9184\n",
            "Epoch [42/100], Step [20/33], Loss: 3.0820\n",
            "Epoch [42/100], Step [30/33], Loss: 3.0497\n",
            "Epoch [43/100], Step [10/33], Loss: 2.9754\n",
            "Epoch [43/100], Step [20/33], Loss: 2.9690\n",
            "Epoch [43/100], Step [30/33], Loss: 2.9610\n",
            "Epoch [44/100], Step [10/33], Loss: 2.9539\n",
            "Epoch [44/100], Step [20/33], Loss: 2.9092\n",
            "Epoch [44/100], Step [30/33], Loss: 2.8827\n",
            "Epoch [45/100], Step [10/33], Loss: 2.9474\n",
            "Epoch [45/100], Step [20/33], Loss: 2.9417\n",
            "Epoch [45/100], Step [30/33], Loss: 2.7599\n",
            "Epoch [46/100], Step [10/33], Loss: 2.7859\n",
            "Epoch [46/100], Step [20/33], Loss: 2.9950\n",
            "Epoch [46/100], Step [30/33], Loss: 2.9704\n",
            "Epoch [47/100], Step [10/33], Loss: 2.8301\n",
            "Epoch [47/100], Step [20/33], Loss: 2.9216\n",
            "Epoch [47/100], Step [30/33], Loss: 2.8747\n",
            "Epoch [48/100], Step [10/33], Loss: 2.9783\n",
            "Epoch [48/100], Step [20/33], Loss: 2.7961\n",
            "Epoch [48/100], Step [30/33], Loss: 2.8282\n",
            "Epoch [49/100], Step [10/33], Loss: 2.8850\n",
            "Epoch [49/100], Step [20/33], Loss: 2.9858\n",
            "Epoch [49/100], Step [30/33], Loss: 2.8282\n",
            "Epoch [50/100], Step [10/33], Loss: 2.9197\n",
            "Epoch [50/100], Step [20/33], Loss: 2.7957\n",
            "Epoch [50/100], Step [30/33], Loss: 2.9523\n",
            "Epoch [51/100], Step [10/33], Loss: 2.9581\n",
            "Epoch [51/100], Step [20/33], Loss: 2.9835\n",
            "Epoch [51/100], Step [30/33], Loss: 2.6819\n",
            "Epoch [52/100], Step [10/33], Loss: 2.9233\n",
            "Epoch [52/100], Step [20/33], Loss: 2.8846\n",
            "Epoch [52/100], Step [30/33], Loss: 2.7314\n",
            "Epoch [53/100], Step [10/33], Loss: 3.0801\n",
            "Epoch [53/100], Step [20/33], Loss: 2.8940\n",
            "Epoch [53/100], Step [30/33], Loss: 2.8575\n",
            "Epoch [54/100], Step [10/33], Loss: 2.8387\n",
            "Epoch [54/100], Step [20/33], Loss: 2.9346\n",
            "Epoch [54/100], Step [30/33], Loss: 2.8327\n",
            "Epoch [55/100], Step [10/33], Loss: 2.9475\n",
            "Epoch [55/100], Step [20/33], Loss: 3.0004\n",
            "Epoch [55/100], Step [30/33], Loss: 3.0022\n",
            "Epoch [56/100], Step [10/33], Loss: 2.9210\n",
            "Epoch [56/100], Step [20/33], Loss: 2.9304\n",
            "Epoch [56/100], Step [30/33], Loss: 3.0491\n",
            "Epoch [57/100], Step [10/33], Loss: 2.9350\n",
            "Epoch [57/100], Step [20/33], Loss: 2.8704\n",
            "Epoch [57/100], Step [30/33], Loss: 2.8919\n",
            "Epoch [58/100], Step [10/33], Loss: 2.9517\n",
            "Epoch [58/100], Step [20/33], Loss: 3.0245\n",
            "Epoch [58/100], Step [30/33], Loss: 2.9454\n",
            "Epoch [59/100], Step [10/33], Loss: 2.8687\n",
            "Epoch [59/100], Step [20/33], Loss: 2.8558\n",
            "Epoch [59/100], Step [30/33], Loss: 3.0473\n",
            "Epoch [60/100], Step [10/33], Loss: 2.8901\n",
            "Epoch [60/100], Step [20/33], Loss: 2.9334\n",
            "Epoch [60/100], Step [30/33], Loss: 2.9449\n",
            "Epoch [61/100], Step [10/33], Loss: 2.7909\n",
            "Epoch [61/100], Step [20/33], Loss: 2.8727\n",
            "Epoch [61/100], Step [30/33], Loss: 2.9744\n",
            "Epoch [62/100], Step [10/33], Loss: 2.9739\n",
            "Epoch [62/100], Step [20/33], Loss: 2.8169\n",
            "Epoch [62/100], Step [30/33], Loss: 2.9754\n",
            "Epoch [63/100], Step [10/33], Loss: 2.9017\n",
            "Epoch [63/100], Step [20/33], Loss: 2.8502\n",
            "Epoch [63/100], Step [30/33], Loss: 2.9522\n",
            "Epoch [64/100], Step [10/33], Loss: 2.8145\n",
            "Epoch [64/100], Step [20/33], Loss: 2.8898\n",
            "Epoch [64/100], Step [30/33], Loss: 3.0599\n",
            "Epoch [65/100], Step [10/33], Loss: 2.9749\n",
            "Epoch [65/100], Step [20/33], Loss: 2.8713\n",
            "Epoch [65/100], Step [30/33], Loss: 2.9692\n",
            "Epoch [66/100], Step [10/33], Loss: 2.7832\n",
            "Epoch [66/100], Step [20/33], Loss: 2.8443\n",
            "Epoch [66/100], Step [30/33], Loss: 2.9688\n",
            "Epoch [67/100], Step [10/33], Loss: 2.8588\n",
            "Epoch [67/100], Step [20/33], Loss: 2.9946\n",
            "Epoch [67/100], Step [30/33], Loss: 2.7628\n",
            "Epoch [68/100], Step [10/33], Loss: 2.9171\n",
            "Epoch [68/100], Step [20/33], Loss: 2.8490\n",
            "Epoch [68/100], Step [30/33], Loss: 2.8556\n",
            "Epoch [69/100], Step [10/33], Loss: 2.7947\n",
            "Epoch [69/100], Step [20/33], Loss: 2.9308\n",
            "Epoch [69/100], Step [30/33], Loss: 2.9226\n",
            "Epoch [70/100], Step [10/33], Loss: 2.8165\n",
            "Epoch [70/100], Step [20/33], Loss: 2.9796\n",
            "Epoch [70/100], Step [30/33], Loss: 2.9890\n",
            "Epoch [71/100], Step [10/33], Loss: 2.7124\n",
            "Epoch [71/100], Step [20/33], Loss: 3.0834\n",
            "Epoch [71/100], Step [30/33], Loss: 3.0169\n",
            "Epoch [72/100], Step [10/33], Loss: 2.9574\n",
            "Epoch [72/100], Step [20/33], Loss: 2.8420\n",
            "Epoch [72/100], Step [30/33], Loss: 3.0491\n",
            "Epoch [73/100], Step [10/33], Loss: 2.8654\n",
            "Epoch [73/100], Step [20/33], Loss: 2.9445\n",
            "Epoch [73/100], Step [30/33], Loss: 2.7955\n",
            "Epoch [74/100], Step [10/33], Loss: 2.8460\n",
            "Epoch [74/100], Step [20/33], Loss: 2.7567\n",
            "Epoch [74/100], Step [30/33], Loss: 2.8639\n",
            "Epoch [75/100], Step [10/33], Loss: 2.9064\n",
            "Epoch [75/100], Step [20/33], Loss: 2.8929\n",
            "Epoch [75/100], Step [30/33], Loss: 3.0614\n",
            "Epoch [76/100], Step [10/33], Loss: 3.0047\n",
            "Epoch [76/100], Step [20/33], Loss: 2.8702\n",
            "Epoch [76/100], Step [30/33], Loss: 3.0054\n",
            "Epoch [77/100], Step [10/33], Loss: 2.7316\n",
            "Epoch [77/100], Step [20/33], Loss: 2.8149\n",
            "Epoch [77/100], Step [30/33], Loss: 2.8107\n",
            "Epoch [78/100], Step [10/33], Loss: 2.9925\n",
            "Epoch [78/100], Step [20/33], Loss: 2.7843\n",
            "Epoch [78/100], Step [30/33], Loss: 2.8879\n",
            "Epoch [79/100], Step [10/33], Loss: 2.9791\n",
            "Epoch [79/100], Step [20/33], Loss: 2.8869\n",
            "Epoch [79/100], Step [30/33], Loss: 3.0103\n",
            "Epoch [80/100], Step [10/33], Loss: 2.8440\n",
            "Epoch [80/100], Step [20/33], Loss: 3.0189\n",
            "Epoch [80/100], Step [30/33], Loss: 2.9717\n",
            "Epoch [81/100], Step [10/33], Loss: 2.9417\n",
            "Epoch [81/100], Step [20/33], Loss: 2.8535\n",
            "Epoch [81/100], Step [30/33], Loss: 2.8351\n",
            "Epoch [82/100], Step [10/33], Loss: 2.9800\n",
            "Epoch [82/100], Step [20/33], Loss: 2.9570\n",
            "Epoch [82/100], Step [30/33], Loss: 2.6583\n",
            "Epoch [83/100], Step [10/33], Loss: 2.6776\n",
            "Epoch [83/100], Step [20/33], Loss: 2.7880\n",
            "Epoch [83/100], Step [30/33], Loss: 3.0066\n",
            "Epoch [84/100], Step [10/33], Loss: 2.8695\n",
            "Epoch [84/100], Step [20/33], Loss: 3.0014\n",
            "Epoch [84/100], Step [30/33], Loss: 3.0152\n",
            "Epoch [85/100], Step [10/33], Loss: 2.9694\n",
            "Epoch [85/100], Step [20/33], Loss: 2.9098\n",
            "Epoch [85/100], Step [30/33], Loss: 3.0397\n",
            "Epoch [86/100], Step [10/33], Loss: 2.8422\n",
            "Epoch [86/100], Step [20/33], Loss: 2.9636\n",
            "Epoch [86/100], Step [30/33], Loss: 2.8850\n",
            "Epoch [87/100], Step [10/33], Loss: 2.7525\n",
            "Epoch [87/100], Step [20/33], Loss: 2.8994\n",
            "Epoch [87/100], Step [30/33], Loss: 2.7915\n",
            "Epoch [88/100], Step [10/33], Loss: 2.9131\n",
            "Epoch [88/100], Step [20/33], Loss: 2.9160\n",
            "Epoch [88/100], Step [30/33], Loss: 2.9246\n",
            "Epoch [89/100], Step [10/33], Loss: 2.8178\n",
            "Epoch [89/100], Step [20/33], Loss: 2.9440\n",
            "Epoch [89/100], Step [30/33], Loss: 3.0122\n",
            "Epoch [90/100], Step [10/33], Loss: 3.0096\n",
            "Epoch [90/100], Step [20/33], Loss: 2.8479\n",
            "Epoch [90/100], Step [30/33], Loss: 2.9621\n",
            "Epoch [91/100], Step [10/33], Loss: 2.9224\n",
            "Epoch [91/100], Step [20/33], Loss: 2.8524\n",
            "Epoch [91/100], Step [30/33], Loss: 2.8839\n",
            "Epoch [92/100], Step [10/33], Loss: 2.7553\n",
            "Epoch [92/100], Step [20/33], Loss: 2.8779\n",
            "Epoch [92/100], Step [30/33], Loss: 2.8685\n",
            "Epoch [93/100], Step [10/33], Loss: 2.8659\n",
            "Epoch [93/100], Step [20/33], Loss: 2.9442\n",
            "Epoch [93/100], Step [30/33], Loss: 2.9063\n",
            "Epoch [94/100], Step [10/33], Loss: 2.8737\n",
            "Epoch [94/100], Step [20/33], Loss: 2.8083\n",
            "Epoch [94/100], Step [30/33], Loss: 3.0379\n",
            "Epoch [95/100], Step [10/33], Loss: 2.9817\n",
            "Epoch [95/100], Step [20/33], Loss: 2.8225\n",
            "Epoch [95/100], Step [30/33], Loss: 3.0002\n",
            "Epoch [96/100], Step [10/33], Loss: 2.8374\n",
            "Epoch [96/100], Step [20/33], Loss: 2.8199\n",
            "Epoch [96/100], Step [30/33], Loss: 2.7689\n",
            "Epoch [97/100], Step [10/33], Loss: 2.9782\n",
            "Epoch [97/100], Step [20/33], Loss: 2.7395\n",
            "Epoch [97/100], Step [30/33], Loss: 3.0561\n",
            "Epoch [98/100], Step [10/33], Loss: 2.8174\n",
            "Epoch [98/100], Step [20/33], Loss: 2.8645\n",
            "Epoch [98/100], Step [30/33], Loss: 2.8834\n",
            "Epoch [99/100], Step [10/33], Loss: 2.9457\n",
            "Epoch [99/100], Step [20/33], Loss: 2.9408\n",
            "Epoch [99/100], Step [30/33], Loss: 3.0269\n",
            "Epoch [100/100], Step [10/33], Loss: 2.9109\n",
            "Epoch [100/100], Step [20/33], Loss: 2.9276\n",
            "Epoch [100/100], Step [30/33], Loss: 2.8651\n"
          ]
        }
      ]
    },
    {
      "cell_type": "markdown",
      "source": [
        "# Testing"
      ],
      "metadata": {
        "id": "V3sQP-1a2Dv4"
      }
    },
    {
      "cell_type": "code",
      "source": [
        "def test(model, device, test_loader):\n",
        "    model.eval()\n",
        "    test_loss = 0\n",
        "    correct = 0\n",
        "    with torch.no_grad():\n",
        "        for data, target in test_loader:\n",
        "            output = model(data)\n",
        "            test_loss += torch.nn.functional.nll_loss(output, target, reduction='sum').item()  \n",
        "            pred = output.argmax(dim=1, keepdim=True)  \n",
        "            correct += pred.eq(target.view_as(pred)).sum().item()\n",
        "\n",
        "    test_loss /= len(test_loader.dataset)\n",
        "\n",
        "    print('\\nTest set: Average loss: {:.4f}, Accuracy: {}/{} ({:.0f}%)\\n'.format(\n",
        "        test_loss, correct, len(test_loader.dataset),\n",
        "        100. * correct / len(test_loader.dataset)))"
      ],
      "metadata": {
        "id": "HKpHmOrxEHXW"
      },
      "execution_count": null,
      "outputs": []
    },
    {
      "cell_type": "code",
      "source": [
        "test(model, device, test_loader)"
      ],
      "metadata": {
        "colab": {
          "base_uri": "https://localhost:8080/"
        },
        "id": "IbuRi9RkF0ef",
        "outputId": "846ba473-4277-4b34-ee56-ab2709c0feb3"
      },
      "execution_count": null,
      "outputs": [
        {
          "output_type": "stream",
          "name": "stdout",
          "text": [
            "tensor([[ 5],\n",
            "        [19],\n",
            "        [14],\n",
            "        [21],\n",
            "        [17],\n",
            "        [17],\n",
            "        [ 0],\n",
            "        [21],\n",
            "        [19],\n",
            "        [14],\n",
            "        [14],\n",
            "        [ 5],\n",
            "        [ 1],\n",
            "        [15],\n",
            "        [ 5],\n",
            "        [ 5],\n",
            "        [ 6],\n",
            "        [20],\n",
            "        [21],\n",
            "        [ 3]])\n",
            "tensor([[19],\n",
            "        [ 5],\n",
            "        [22],\n",
            "        [15],\n",
            "        [21],\n",
            "        [12],\n",
            "        [15],\n",
            "        [14],\n",
            "        [14],\n",
            "        [ 1],\n",
            "        [14],\n",
            "        [20],\n",
            "        [ 6],\n",
            "        [ 8],\n",
            "        [20],\n",
            "        [21],\n",
            "        [20],\n",
            "        [20],\n",
            "        [14],\n",
            "        [24]])\n",
            "tensor([[15],\n",
            "        [ 3],\n",
            "        [24],\n",
            "        [ 3],\n",
            "        [20],\n",
            "        [17],\n",
            "        [19],\n",
            "        [19],\n",
            "        [17],\n",
            "        [17],\n",
            "        [15],\n",
            "        [14],\n",
            "        [19],\n",
            "        [15],\n",
            "        [14],\n",
            "        [19],\n",
            "        [19],\n",
            "        [ 8],\n",
            "        [ 3],\n",
            "        [17]])\n",
            "tensor([[ 8],\n",
            "        [15],\n",
            "        [ 3],\n",
            "        [14],\n",
            "        [17],\n",
            "        [14],\n",
            "        [17],\n",
            "        [ 3],\n",
            "        [ 8],\n",
            "        [14],\n",
            "        [19],\n",
            "        [21],\n",
            "        [ 8],\n",
            "        [ 5],\n",
            "        [15],\n",
            "        [ 0],\n",
            "        [19],\n",
            "        [15],\n",
            "        [ 6],\n",
            "        [19]])\n",
            "tensor([[ 8],\n",
            "        [19],\n",
            "        [17],\n",
            "        [24],\n",
            "        [22],\n",
            "        [ 8],\n",
            "        [19],\n",
            "        [ 3],\n",
            "        [21],\n",
            "        [15],\n",
            "        [ 3],\n",
            "        [20],\n",
            "        [ 3],\n",
            "        [19],\n",
            "        [22],\n",
            "        [14],\n",
            "        [ 8],\n",
            "        [12],\n",
            "        [19],\n",
            "        [ 8]])\n",
            "tensor([[ 5],\n",
            "        [14],\n",
            "        [14],\n",
            "        [12],\n",
            "        [ 5],\n",
            "        [ 5],\n",
            "        [19],\n",
            "        [20],\n",
            "        [21],\n",
            "        [22],\n",
            "        [12],\n",
            "        [ 3],\n",
            "        [14],\n",
            "        [17],\n",
            "        [20],\n",
            "        [17],\n",
            "        [24],\n",
            "        [21],\n",
            "        [20],\n",
            "        [21]])\n",
            "tensor([[20],\n",
            "        [12],\n",
            "        [14],\n",
            "        [24],\n",
            "        [ 8],\n",
            "        [12],\n",
            "        [17],\n",
            "        [ 8],\n",
            "        [20],\n",
            "        [ 3],\n",
            "        [20],\n",
            "        [ 5],\n",
            "        [21],\n",
            "        [19],\n",
            "        [24],\n",
            "        [20],\n",
            "        [ 5],\n",
            "        [ 3],\n",
            "        [20],\n",
            "        [15]])\n",
            "tensor([[ 3],\n",
            "        [22],\n",
            "        [19],\n",
            "        [15],\n",
            "        [20],\n",
            "        [15],\n",
            "        [15],\n",
            "        [ 8],\n",
            "        [ 8],\n",
            "        [21],\n",
            "        [17],\n",
            "        [22],\n",
            "        [24],\n",
            "        [ 0],\n",
            "        [17],\n",
            "        [17],\n",
            "        [17],\n",
            "        [14],\n",
            "        [17],\n",
            "        [14]])\n",
            "tensor([[ 3],\n",
            "        [17],\n",
            "        [20],\n",
            "        [ 5],\n",
            "        [15],\n",
            "        [ 5],\n",
            "        [ 5],\n",
            "        [14],\n",
            "        [ 8],\n",
            "        [ 3],\n",
            "        [24],\n",
            "        [17],\n",
            "        [21],\n",
            "        [ 8],\n",
            "        [20],\n",
            "        [ 5],\n",
            "        [19],\n",
            "        [ 6],\n",
            "        [19],\n",
            "        [24]])\n",
            "tensor([[12],\n",
            "        [ 5],\n",
            "        [ 1],\n",
            "        [12],\n",
            "        [19],\n",
            "        [14],\n",
            "        [12],\n",
            "        [21],\n",
            "        [14],\n",
            "        [12],\n",
            "        [ 0],\n",
            "        [ 8],\n",
            "        [17],\n",
            "        [12],\n",
            "        [14],\n",
            "        [ 3],\n",
            "        [12],\n",
            "        [21],\n",
            "        [17],\n",
            "        [ 5]])\n",
            "tensor([[20],\n",
            "        [ 8],\n",
            "        [14],\n",
            "        [ 8],\n",
            "        [12],\n",
            "        [20],\n",
            "        [20],\n",
            "        [17],\n",
            "        [17],\n",
            "        [17],\n",
            "        [17],\n",
            "        [15],\n",
            "        [12],\n",
            "        [ 8],\n",
            "        [17],\n",
            "        [ 3],\n",
            "        [12],\n",
            "        [ 1],\n",
            "        [ 8],\n",
            "        [22]])\n",
            "tensor([[14],\n",
            "        [ 8],\n",
            "        [15],\n",
            "        [21],\n",
            "        [20],\n",
            "        [15],\n",
            "        [20],\n",
            "        [14],\n",
            "        [ 3],\n",
            "        [ 1],\n",
            "        [24],\n",
            "        [ 5],\n",
            "        [14],\n",
            "        [20],\n",
            "        [24],\n",
            "        [24],\n",
            "        [ 6],\n",
            "        [15],\n",
            "        [21],\n",
            "        [14]])\n",
            "tensor([[20],\n",
            "        [12],\n",
            "        [22],\n",
            "        [ 3],\n",
            "        [19],\n",
            "        [21],\n",
            "        [20],\n",
            "        [ 8],\n",
            "        [20],\n",
            "        [15],\n",
            "        [12],\n",
            "        [ 3],\n",
            "        [ 5],\n",
            "        [17],\n",
            "        [20],\n",
            "        [14],\n",
            "        [ 8],\n",
            "        [ 3],\n",
            "        [ 8],\n",
            "        [19]])\n",
            "tensor([[20],\n",
            "        [12],\n",
            "        [14],\n",
            "        [12],\n",
            "        [ 5],\n",
            "        [12],\n",
            "        [20],\n",
            "        [14],\n",
            "        [ 1],\n",
            "        [ 0],\n",
            "        [17],\n",
            "        [22],\n",
            "        [ 8],\n",
            "        [14],\n",
            "        [24],\n",
            "        [ 6],\n",
            "        [ 3],\n",
            "        [14],\n",
            "        [14],\n",
            "        [21]])\n",
            "\n",
            "Test set: Average loss: -0.6739, Accuracy: 192/286 (67%)\n",
            "\n"
          ]
        }
      ]
    },
    {
      "cell_type": "markdown",
      "source": [
        "# Text to Speech"
      ],
      "metadata": {
        "id": "_HCl4zv3YG0Q"
      }
    },
    {
      "cell_type": "code",
      "source": [
        "!pip install gTTS"
      ],
      "metadata": {
        "id": "O-O3V3lJMFks",
        "colab": {
          "base_uri": "https://localhost:8080/"
        },
        "outputId": "b98a2a23-c4e8-4ca1-b115-2198f7f7c09b"
      },
      "execution_count": 386,
      "outputs": [
        {
          "output_type": "stream",
          "name": "stdout",
          "text": [
            "Requirement already satisfied: gTTS in /usr/local/lib/python3.7/dist-packages (2.2.4)\n",
            "Requirement already satisfied: six in /usr/local/lib/python3.7/dist-packages (from gTTS) (1.15.0)\n",
            "Requirement already satisfied: requests in /usr/local/lib/python3.7/dist-packages (from gTTS) (2.23.0)\n",
            "Requirement already satisfied: click in /usr/local/lib/python3.7/dist-packages (from gTTS) (7.1.2)\n",
            "Requirement already satisfied: certifi>=2017.4.17 in /usr/local/lib/python3.7/dist-packages (from requests->gTTS) (2021.10.8)\n",
            "Requirement already satisfied: chardet<4,>=3.0.2 in /usr/local/lib/python3.7/dist-packages (from requests->gTTS) (3.0.4)\n",
            "Requirement already satisfied: urllib3!=1.25.0,!=1.25.1,<1.26,>=1.21.1 in /usr/local/lib/python3.7/dist-packages (from requests->gTTS) (1.24.3)\n",
            "Requirement already satisfied: idna<3,>=2.5 in /usr/local/lib/python3.7/dist-packages (from requests->gTTS) (2.10)\n"
          ]
        }
      ]
    },
    {
      "cell_type": "code",
      "source": [
        "from gtts import gTTS \n",
        "import os\n",
        "\n",
        "image = Image.open('IMG2549_6.jpg')\n",
        "\n",
        "new_img = torch.unsqueeze(transform1(image), dim=1)\n",
        "output = model(new_img)\n",
        "\n",
        "pred = output.argmax(dim=1, keepdim=True)\n",
        "text = final_df.columns[3:][pred][-1]\n",
        "\n",
        "language = 'en'\n",
        "speech = gTTS(text = text, lang = language, slow = False)\n",
        "speech.save(\"character.mp3\")\n",
        "os.system(\"start character.mp3\")"
      ],
      "metadata": {
        "id": "6BNVCBB0hGeu",
        "colab": {
          "base_uri": "https://localhost:8080/"
        },
        "outputId": "85ada157-a0d3-4d68-9de1-8be6cf9ba928"
      },
      "execution_count": 387,
      "outputs": [
        {
          "output_type": "execute_result",
          "data": {
            "text/plain": [
              "32512"
            ]
          },
          "metadata": {},
          "execution_count": 387
        }
      ]
    }
  ],
  "metadata": {
    "colab": {
      "collapsed_sections": [],
      "name": "Final_Final_Proj_1.ipynb",
      "provenance": [],
      "toc_visible": true
    },
    "kernelspec": {
      "display_name": "Python 3",
      "name": "python3"
    },
    "language_info": {
      "name": "python"
    },
    "accelerator": "GPU"
  },
  "nbformat": 4,
  "nbformat_minor": 0
}